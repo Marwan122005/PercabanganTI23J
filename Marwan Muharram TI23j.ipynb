{
 "cells": [
  {
   "cell_type": "markdown",
   "metadata": {
    "id": "CPMve-eOrxkM"
   },
   "source": [
    "# **PERCABANGAN**"
   ]
  },
  {
   "cell_type": "code",
   "execution_count": 1,
   "metadata": {
    "colab": {
     "base_uri": "https://localhost:8080/"
    },
    "id": "CZkPUBhdoCmm",
    "outputId": "51d1af9d-af92-46e5-e7ac-ed221354886c"
   },
   "outputs": [
    {
     "name": "stdout",
     "output_type": "stream",
     "text": [
      "Isikan Nilai:8\n",
      "8 adalah bilangan genap\n",
      "Program Selesai\n"
     ]
    }
   ],
   "source": [
    "#Menentukan ganjil genap\n",
    "nilai = int(input('Isikan Nilai:'))\n",
    "sisa_bagi = nilai % 2\n",
    "\n",
    "if sisa_bagi==0:\n",
    "    print(f'{nilai} adalah bilangan genap')\n",
    "else:\n",
    "    print(f'{nilai} adalah bilangan ganjil')\n",
    "print('Program Selesai')"
   ]
  },
  {
   "cell_type": "code",
   "execution_count": 2,
   "metadata": {
    "colab": {
     "base_uri": "https://localhost:8080/"
    },
    "id": "YMeLmnW0oIqM",
    "outputId": "493af6a0-9d4d-49bd-89ba-948eec718537"
   },
   "outputs": [
    {
     "name": "stdout",
     "output_type": "stream",
     "text": [
      "Isikan Nilai:100\n",
      "A \n"
     ]
    }
   ],
   "source": [
    "nilai = int(input('Isikan Nilai:'))\n",
    "if nilai < 0 or nilai >100:\n",
    "    print('Nilai Anda Salah')\n",
    "else:\n",
    "    if nilai <50:\n",
    "        print('E ')\n",
    "    elif nilai <60:\n",
    "        print('D ')\n",
    "    elif nilai <70:\n",
    "        print('C ')\n",
    "    elif nilai <85:\n",
    "        print('B ')\n",
    "    elif nilai <=100:\n",
    "        print('A ')\n",
    "\n"
   ]
  },
  {
   "cell_type": "markdown",
   "metadata": {
    "id": "yoCOJNdzr58p"
   },
   "source": [
    "# **Program login username**"
   ]
  },
  {
   "cell_type": "code",
   "execution_count": 3,
   "metadata": {
    "colab": {
     "base_uri": "https://localhost:8080/"
    },
    "id": "Ki_VFempoL0x",
    "outputId": "0b1aae6c-2149-463f-f3a1-50f5a8f23783"
   },
   "outputs": [
    {
     "name": "stdout",
     "output_type": "stream",
     "text": [
      "Isikan Username: admin\n",
      "Isikan Password: admin\n",
      "Selamat Datang admin\n"
     ]
    }
   ],
   "source": [
    "username = input('Isikan Username: ')\n",
    "password = input('Isikan Password: ')\n",
    "if username == 'admin':\n",
    "    if password == 'admin':\n",
    "        print(f'Selamat Datang {username}')\n",
    "    else :\n",
    "        print(f'Password Anda Salah')\n",
    "\n",
    "else:\n",
    "    if password =='admin':\n",
    "        print('Username anda salah')\n",
    "    else:\n",
    "        print('Username & Password anda salah')\n"
   ]
  },
  {
   "cell_type": "markdown",
   "metadata": {
    "id": "VQ8MBqjAq_uN"
   },
   "source": [
    "# **SOAL 1**"
   ]
  },
  {
   "cell_type": "code",
   "execution_count": 3,
   "metadata": {
    "colab": {
     "base_uri": "https://localhost:8080/"
    },
    "id": "UvqBg4_4oOXk",
    "outputId": "c5e5fbba-42f8-4a6f-dd3d-ef79d9bd31a5"
   },
   "outputs": [
    {
     "name": "stdin",
     "output_type": "stream",
     "text": [
      "Isikan Nama:  Marwan\n",
      "Isikan Umur:  21\n",
      "Isikan Tempat Tinggal:  Nevada\n",
      "Isikan Tabungan:  10.000\n"
     ]
    },
    {
     "ename": "ValueError",
     "evalue": "invalid literal for int() with base 10: '10.000'",
     "output_type": "error",
     "traceback": [
      "\u001b[1;31m---------------------------------------------------------------------------\u001b[0m",
      "\u001b[1;31mValueError\u001b[0m                                Traceback (most recent call last)",
      "Cell \u001b[1;32mIn[3], line 4\u001b[0m\n\u001b[0;32m      2\u001b[0m umur \u001b[38;5;241m=\u001b[39m \u001b[38;5;28mint\u001b[39m(\u001b[38;5;28minput\u001b[39m(\u001b[38;5;124m'\u001b[39m\u001b[38;5;124mIsikan Umur: \u001b[39m\u001b[38;5;124m'\u001b[39m))\n\u001b[0;32m      3\u001b[0m tempat_tinggal \u001b[38;5;241m=\u001b[39m \u001b[38;5;28minput\u001b[39m(\u001b[38;5;124m'\u001b[39m\u001b[38;5;124mIsikan Tempat Tinggal: \u001b[39m\u001b[38;5;124m'\u001b[39m)\n\u001b[1;32m----> 4\u001b[0m tabungan \u001b[38;5;241m=\u001b[39m \u001b[38;5;28mint\u001b[39m(\u001b[38;5;28minput\u001b[39m(\u001b[38;5;124m'\u001b[39m\u001b[38;5;124mIsikan Tabungan: \u001b[39m\u001b[38;5;124m'\u001b[39m))\n\u001b[0;32m      5\u001b[0m pangkat \u001b[38;5;241m=\u001b[39m \u001b[38;5;124m'\u001b[39m\u001b[38;5;124m'\u001b[39m\n\u001b[0;32m      6\u001b[0m \u001b[38;5;28;01mif\u001b[39;00m umur \u001b[38;5;241m>\u001b[39m\u001b[38;5;241m40\u001b[39m:\n",
      "\u001b[1;31mValueError\u001b[0m: invalid literal for int() with base 10: '10.000'"
     ]
    }
   ],
   "source": [
    "nama = input('Isikan Nama: ')\n",
    "umur = int(input('Isikan Umur: '))\n",
    "tempat_tinggal = input('Isikan Tempat Tinggal: ')\n",
    "tabungan = int(input('Isikan Tabungan: '))\n",
    "pangkat = ''\n",
    "if umur >40:\n",
    "    if tempat_tinggal=='New York' or tempat_tinggal== 'Nevada' or tempat_tinggal=='Havana':\n",
    "        if tabungan > 10.000:\n",
    "            pangkat = 'Don'\n",
    "elif 25 <= umur <=40:\n",
    "    if tempat_tinggal=='New Jersey' or tempat_tinggal== 'Manhattan' or tempat_tinggal=='Nevada':\n",
    "        if tabungan >=1.000 and tabungan <=2.000:\n",
    "            pangkat = 'Underboss'\n",
    "elif 18<= umur <=24:\n",
    "    if tempat_tinggal=='California' or tempat_tinggal== 'Detroit' or tempat_tinggal=='Boston':\n",
    "        if tabungan < 1.000 :\n",
    "            pangkat = 'Capo'\n",
    "\n",
    "if pangkat!='':\n",
    "    print(f'{nama} Kemungkinan adalah seorang anggota mafia dengan pangkat {pangkat}')\n",
    "else:\n",
    "    print(f'{nama} Tidak mencurigakan')\n"
   ]
  },
  {
   "cell_type": "markdown",
   "metadata": {
    "id": "W4YsdaAKq1rw"
   },
   "source": [
    "## **SOAL** **2**"
   ]
  },
  {
   "cell_type": "code",
   "execution_count": 14,
   "metadata": {
    "colab": {
     "base_uri": "https://localhost:8080/"
    },
    "id": "d_IVe2uvoj6g",
    "outputId": "83ed0766-9bf4-43aa-f21a-749a0dc5a12c"
   },
   "outputs": [
    {
     "name": "stdout",
     "output_type": "stream",
     "text": [
      "Masukkan nilai coding (0-100): 10\n",
      "Maaf, kamu tidak memenuhi syarat untuk melanjutkan ke tahap wawancara.\n"
     ]
    }
   ],
   "source": [
    "def nilai_coding(nilai):\n",
    "    if nilai > 80:\n",
    "        return \"LOLOS\"\n",
    "    elif nilai >= 60 and nilai <= 80:\n",
    "        return \"DIPERTIMBANGKAN\"\n",
    "    else:\n",
    "        return \"GAGAL\"\n",
    "\n",
    "def nilai_interview(nilai):\n",
    "    if nilai == \"A\" or nilai == \"B\":\n",
    "        return \"LOLOS\"\n",
    "    else:\n",
    "        return \"GAGAL\"\n",
    "\n",
    "def penerimaan_calon_programmer(nilai_coding, nilai_interview):\n",
    "    if nilai_coding == \"LOLOS\" and nilai_interview == \"LOLOS\":\n",
    "        return \"Selamat Kamu Berhasil Menjadi Calon Programmer\"\n",
    "    else:\n",
    "        return \"Maaf Kamu Belum Berhasil Menjadi Calon Programmer\"\n",
    "\n",
    "# Menerima input nilai coding\n",
    "nilai_coding_input = int(input(\"Masukkan nilai coding (0-100): \"))\n",
    "\n",
    "# Mendapatkan hasil penilaian coding\n",
    "hasil_nilai_coding = nilai_coding(nilai_coding_input)\n",
    "\n",
    "# Jika lolos atau dipertimbangkan, lanjut ke nilai interview\n",
    "if hasil_nilai_coding in [\"LOLOS\", \"DIPERTIMBANGKAN\"]:\n",
    "    # Menerima input nilai interview\n",
    "    nilai_interview_input = input(\"Masukkan nilai interview (A/B): \")\n",
    "\n",
    "    # Mendapatkan hasil penilaian interview\n",
    "    hasil_nilai_interview = nilai_interview(nilai_interview_input)\n",
    "\n",
    "    # Menampilkan pesan hasil penerimaan calon programmer\n",
    "    pesan_hasil_penerimaan = penerimaan_calon_programmer(hasil_nilai_coding, hasil_nilai_interview)\n",
    "    print(pesan_hasil_penerimaan)\n",
    "else:\n",
    "    print(\"Maaf, kamu tidak memenuhi syarat untuk melanjutkan ke tahap wawancara.\")\n"
   ]
  },
  {
   "cell_type": "markdown",
   "metadata": {
    "id": "DXDczLOnrEld"
   },
   "source": [
    "# **SOAL** **3**"
   ]
  },
  {
   "cell_type": "code",
   "execution_count": 19,
   "metadata": {
    "colab": {
     "base_uri": "https://localhost:8080/"
    },
    "id": "57El76hHrDKH",
    "outputId": "d989c03f-3da2-4dd1-b3df-4d27f73deb73"
   },
   "outputs": [
    {
     "name": "stdout",
     "output_type": "stream",
     "text": [
      "Masukkan nomor punggung pemain: 15\n",
      "Posisi pemain dengan nomor punggung 15 adalah: Keeper\n"
     ]
    }
   ],
   "source": [
    "def determine_position(nomor_punggung):\n",
    "    if nomor_punggung % 2 == 0:\n",
    "        if nomor_punggung >= 50 and nomor_punggung <= 100:\n",
    "            return \"Capten Team\"\n",
    "        else:\n",
    "            return \"Target Attacker\"\n",
    "    else:\n",
    "        if nomor_punggung > 90:\n",
    "            return \"Playmaker\"\n",
    "        elif nomor_punggung % 3 == 0 or nomor_punggung % 5 == 0:\n",
    "            return \"Keeper\"\n",
    "        else:\n",
    "            return \"Defender\"\n",
    "\n",
    "# Menerima input nomor punggung\n",
    "nomor_punggung = int(input(\"Masukkan nomor punggung pemain: \"))\n",
    "\n",
    "# Menentukan posisi pemain\n",
    "posisi = determine_position(nomor_punggung)\n",
    "\n",
    "# Menampilkan hasil posisi pemain\n",
    "print(\"Posisi pemain dengan nomor punggung\", nomor_punggung, \"adalah:\", posisi)\n"
   ]
  }
 ],
 "metadata": {
  "colab": {
   "provenance": []
  },
  "kernelspec": {
   "display_name": "Python 3 (ipykernel)",
   "language": "python",
   "name": "python3"
  },
  "language_info": {
   "codemirror_mode": {
    "name": "ipython",
    "version": 3
   },
   "file_extension": ".py",
   "mimetype": "text/x-python",
   "name": "python",
   "nbconvert_exporter": "python",
   "pygments_lexer": "ipython3",
   "version": "3.11.7"
  }
 },
 "nbformat": 4,
 "nbformat_minor": 4
}
